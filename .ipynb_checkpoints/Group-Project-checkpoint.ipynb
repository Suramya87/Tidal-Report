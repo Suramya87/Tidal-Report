{
 "cells": [
  {
   "cell_type": "markdown",
   "id": "7f9dfc44-cdba-485f-98f7-0e631c422d8b",
   "metadata": {},
   "source": [
    "# Tidal Report Group Project\n",
    "### By Suramya Shakya, Cole Lewis, Genevieve Garcia, and Ignacio Watlington"
   ]
  },
  {
   "cell_type": "code",
   "execution_count": null,
   "id": "7d3bf00a-6888-4aeb-8291-9c9796390118",
   "metadata": {},
   "outputs": [],
   "source": [
    "# import all needed modules\n",
    "import numpy as np\n",
    "import matplotlib.pyplot as plt\n",
    "from scipy import optimize\n",
    "\n",
    "%matplotlib inline"
   ]
  },
  {
   "cell_type": "code",
   "execution_count": null,
   "id": "ea4212d3-0360-44a8-85fa-c193419e2f0e",
   "metadata": {},
   "outputs": [],
   "source": [
    "# open the file and create a numpy array\n",
    "\n",
    "file = open(\"ASTR19_S22_group_project_data.txt\", \"r\")\n",
    "lines = file.readlines()\n",
    "file.close()\n",
    "\n",
    "time, waveheight = [], []\n",
    "\n",
    "for line in lines[3:]:\n",
    "    linedata = line.split()\n",
    "    time.append((float(linedata[0])*24*60 + float(linedata[1].split(':')[0])*60 + float(linedata[1].split(':')[1])) / 60)\n",
    "    waveheight.append(float(linedata[2]))"
   ]
  },
  {
   "cell_type": "code",
   "execution_count": null,
   "id": "669e6d17-36f3-4221-bc3b-0b6596045d77",
   "metadata": {},
   "outputs": [],
   "source": [
    "def f_curve(x, a, b, c, d, e, f, g):\n",
    "    return a * np.sin(np.multiply(x, b)-c) + d * np.sin(np.multiply(x, e)-f) + g"
   ]
  },
  {
   "cell_type": "code",
   "execution_count": null,
   "id": "1f832161-6371-4bcb-9878-741ce4fece68",
   "metadata": {},
   "outputs": [],
   "source": [
    "#Assuming root mean squared experimental error is 0.25 feet \n",
    "y_err = np.full(len(waveheight), 0.25)\n",
    "\n",
    "#optimize function to find a best fit of our model to the data. Through trial and error, we found the values in p0 has an ok approximation to give the optimize function something to work off of\n",
    "params, params_cov = optimize.curve_fit(f_curve, time, waveheight, sigma=y_err, p0=[1, 0.5, 0, 1, 0.02, 200, 2.5])\n",
    "\n",
    "# Output from the optimze function\n",
    "a_fit = params[0]\n",
    "b_fit = params[1]\n",
    "c_fit = params[2]\n",
    "d_fit = params[3]\n",
    "e_fit = params[4]\n",
    "f_fit = params[5]\n",
    "g_fit = params[6]\n",
    "\n",
    "# prints the parameters of our best fit\n",
    "print(a_fit, b_fit, c_fit, d_fit, e_fit, f_fit, g_fit)\n",
    "\n",
    "#creates the points for the best fit so we can graph it\n",
    "y_fit = a_fit * np.sin(np.multiply(time, b_fit)-c_fit) + d_fit * np.sin(np.multiply(time, e_fit)-f_fit) + g_fit\n",
    "\n",
    "#plots the data (waveheight) and the model (y_fit)\n",
    "f, ax = plt.subplots(1, 1, figsize=(12,7))\n",
    "ax.xaxis.set_tick_params(which='both', direction='in')\n",
    "ax.yaxis.set_tick_params(which='both', direction='in')\n",
    "ax.errorbar(time, waveheight, yerr = y_err, fmt='o', label=\"Data\")\n",
    "ax.plot(time, y_fit, label=\"Model\")\n",
    "ax.set_xlabel(\"Time (Hours)\")\n",
    "ax.set_ylabel(\"Waveheight (Feet)\")\n",
    "plt.legend(frameon=False)\n",
    "plt.savefig(\"model-fit.pdf\", bbox_inches=\"tight\", facecolor=\"white\")"
   ]
  },
  {
   "cell_type": "code",
   "execution_count": null,
   "id": "b9e90146-488b-4025-95b1-596220b7f99a",
   "metadata": {},
   "outputs": [],
   "source": [
    "# initializing residuals \n",
    "residuals = waveheight-y_fit #for all values of the data we subtract the model to find the residuals\n",
    "\n",
    "#ploting histogram\n",
    "f, ax = plt.subplots(1, 1, figsize=(12,7))\n",
    "ax.hist(residuals, bins= 20, color='green',edgecolor='black')\n",
    "ax.set_xlabel('Residuals')\n",
    "ax.set_ylabel('Frequency') \n",
    "ax.xaxis.set_tick_params(which='both', direction='in')\n",
    "ax.yaxis.set_tick_params(which='both', direction='in')\n",
    "f.savefig('residuals_histogram.pdf')\n",
    "\n",
    "# calculating annd outputing standard deviation\n",
    "st_dev = np.std(residuals)\n",
    "\n",
    "print(f\"Standard Deviation of Residuals: {st_dev}\")"
   ]
  },
  {
   "cell_type": "code",
   "execution_count": null,
   "id": "52d56674-ee26-44bc-8233-af3aa66e8256",
   "metadata": {},
   "outputs": [],
   "source": []
  }
 ],
 "metadata": {
  "kernelspec": {
   "display_name": "Python 3 (ipykernel)",
   "language": "python",
   "name": "python3"
  },
  "language_info": {
   "codemirror_mode": {
    "name": "ipython",
    "version": 3
   },
   "file_extension": ".py",
   "mimetype": "text/x-python",
   "name": "python",
   "nbconvert_exporter": "python",
   "pygments_lexer": "ipython3",
   "version": "3.12.0"
  }
 },
 "nbformat": 4,
 "nbformat_minor": 5
}
