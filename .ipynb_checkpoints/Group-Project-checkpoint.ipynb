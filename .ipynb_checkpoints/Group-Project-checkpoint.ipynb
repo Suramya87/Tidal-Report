{
 "cells": [
  {
   "cell_type": "markdown",
   "id": "7f9dfc44-cdba-485f-98f7-0e631c422d8b",
   "metadata": {},
   "source": [
    "# Tidal Report Group Project\n",
    "### By Suramya Shakya, Cole Lewis, Genevieve Garcia, and Ignacio Watlington"
   ]
  },
  {
   "cell_type": "code",
   "execution_count": 3,
   "id": "7d3bf00a-6888-4aeb-8291-9c9796390118",
   "metadata": {},
   "outputs": [],
   "source": [
    "# import all needed modules\n",
    "import sys\n",
    "import numpy as np\n",
    "import matplotlib.pyplot as plt\n",
    "from scipy import optimize"
   ]
  },
  {
   "cell_type": "code",
   "execution_count": null,
   "id": "ea4212d3-0360-44a8-85fa-c193419e2f0e",
   "metadata": {},
   "outputs": [],
   "source": []
  }
 ],
 "metadata": {
  "kernelspec": {
   "display_name": "Python 3 (ipykernel)",
   "language": "python",
   "name": "python3"
  },
  "language_info": {
   "codemirror_mode": {
    "name": "ipython",
    "version": 3
   },
   "file_extension": ".py",
   "mimetype": "text/x-python",
   "name": "python",
   "nbconvert_exporter": "python",
   "pygments_lexer": "ipython3",
   "version": "3.11.5"
  }
 },
 "nbformat": 4,
 "nbformat_minor": 5
}
