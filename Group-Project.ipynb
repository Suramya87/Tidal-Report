{
 "cells": [
  {
   "cell_type": "markdown",
   "id": "7f9dfc44-cdba-485f-98f7-0e631c422d8b",
   "metadata": {},
   "source": [
    "# Tidal Report Group Project\n",
    "### By Suramya Shakya, Cole Lewis, Genevieve Garcia, and Ignacio Watlington"
   ]
  },
  {
   "cell_type": "code",
   "execution_count": 31,
   "id": "7d3bf00a-6888-4aeb-8291-9c9796390118",
   "metadata": {},
   "outputs": [],
   "source": [
    "# import all needed modules\n",
    "import numpy as np\n",
    "import matplotlib.pyplot as plt\n",
    "from scipy import optimize\n",
    "\n",
    "%matplotlib inline"
   ]
  },
  {
   "cell_type": "code",
   "execution_count": 36,
   "id": "ea4212d3-0360-44a8-85fa-c193419e2f0e",
   "metadata": {},
   "outputs": [],
   "source": [
    "# open the file and create a numpy array\n",
    "\n",
    "file = open(\"ASTR19_S22_group_project_data.txt\", \"r\")\n",
    "lines = file.readlines()\n",
    "file.close()\n",
    "\n",
    "time, waveheight = [], []\n",
    "\n",
    "for line in lines[3:]:\n",
    "    linedata = line.split()\n",
    "    time.append(int(linedata[0])*24*60 + int(linedata[1].split(':')[0])*60 + int(linedata[1].split(':')[1]))\n",
    "    waveheight.append(float(linedata[2]))"
   ]
  },
  {
   "cell_type": "code",
   "execution_count": 6,
   "id": "1f832161-6371-4bcb-9878-741ce4fece68",
   "metadata": {},
   "outputs": [],
   "source": []
  },
  {
   "cell_type": "code",
   "execution_count": null,
   "id": "6595f964-eb71-428f-8e23-39bfc9d0471c",
   "metadata": {},
   "outputs": [],
   "source": []
  }
 ],
 "metadata": {
  "kernelspec": {
   "display_name": "Python 3 (ipykernel)",
   "language": "python",
   "name": "python3"
  },
  "language_info": {
   "codemirror_mode": {
    "name": "ipython",
    "version": 3
   },
   "file_extension": ".py",
   "mimetype": "text/x-python",
   "name": "python",
   "nbconvert_exporter": "python",
   "pygments_lexer": "ipython3",
   "version": "3.11.5"
  }
 },
 "nbformat": 4,
 "nbformat_minor": 5
}
